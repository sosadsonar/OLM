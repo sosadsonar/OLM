{
  "nbformat": 4,
  "nbformat_minor": 0,
  "metadata": {
    "colab": {
      "provenance": []
    },
    "kernelspec": {
      "name": "python3",
      "display_name": "Python 3"
    },
    "language_info": {
      "name": "python"
    }
  },
  "cells": [
    {
      "cell_type": "code",
      "execution_count": 22,
      "metadata": {
        "cellView": "form",
        "id": "HDw5jqocFeJn"
      },
      "outputs": [],
      "source": [
        "# @title Upload your file or input your json here\n",
        "from google.colab import files\n",
        "user_input = \"[     {         \\\"_id\\\": \\\"65d22e6022f8f1ae6401c725\\\",         \\\"title\\\": \\\"C\\\\u00e2u 1\\\",         \\\"content\\\": \\\"PHAgY2xhc3M9Ik1zb05vcm1hbCIgc3R5bGU9InRhYi1zdG9wczoxNC4ycHQiPjxzdHJvbmc+TWFyayB0aGUgbGV0dGVyIEEsIEIsIEMsIG9yIEQgb24geW91ciBhbnN3ZXIgc2hlZXQgdG8gaW5kaWNhdGUgdGhlIHNlbnRlbmNlIHRoYXQgaXMgQ0xPU0VTVCBpbiBtZWFuaW5nIHRvIGVhY2ggb2YgdGhlIGZvbGxvd2luZyBxdWVzdGlvbnMgPGVtPihRdWVzdGlvbiAxLTE1KS48L2VtPjwvc3Ryb25nPjwvcD4KCjxwIGNsYXNzPSJNc29Ob3JtYWwiIHN0eWxlPSJ0YWItc3RvcHM6MTQuMnB0Ij5TaGUgYXNrZWQgbWU6IOKAnFdoeSBkaWRu4oCZdCB5b3UgY29tZSBoZXJlIHllc3RlcmRheT\\\\/igJ08L3A+Cgo8b2wgY2xhc3M9InF1aXotbGlzdCIgdHlwZT0iQSI+Cgk8bGkgY2xhc3M9ImNvcnJlY3RBbnN3ZXIiPlNoZSBhc2tlZCBtZSB3aHkgSSBoYWRu4oCZdCBjb21lIHRoZXJlIHRoZSBkYXkgYmVmb3JlLjwvbGk+Cgk8bGk+U2hlIGFza2VkIG1lIHdoeSBoYWRu4oCZdCBJIGNvbWUgdGhlcmUgdGhlIGRheSBiZWZvcmUuPC9saT4KCTxsaT5TaGUgYXNrZWQgbWUgd2h5IGRpZG7igJl0IEkgY29tZSB0aGVyZSB0aGUgZGF5IGJlZm9yZS48L2xpPgoJPGxpPlNoZSBhc2tlZCBtZSB3aHkgSSBkaWRu4oCZdCBjb21lIHRoZXJlIHRoZSBkYXkgYmVmb3JlLjwvbGk+Cjwvb2w+\\\",         \\\"id_questiontype\\\": \\\"\\\",         \\\"modified\\\": \\\"2024-02-18 23:20:48\\\",         \\\"old_id\\\": 0,         \\\"iduser\\\": \\\"10976733756519\\\",         \\\"level\\\": 1,         \\\"q_type\\\": 1,         \\\"code\\\": 0,         \\\"requires\\\": null,         \\\"score\\\": 1,         \\\"reviewed\\\": 0,         \\\"id\\\": 202037786790,         \\\"last_modified\\\": \\\"2024-02-18 23:20:48\\\",         \\\"id_subject\\\": 3,         \\\"_level\\\": {             \\\"label\\\": \\\"Nh\\\\u1eadn bi\\\\u1ebft\\\",             \\\"short_label\\\": \\\"NB\\\"         }     },     {         \\\"_id\\\": \\\"65d22e614790a28eaa0317c5\\\",         \\\"title\\\": \\\"C\\\\u00e2u 2\\\",         \\\"content\\\": \\\"PHA+V2UgbGFzdCB3ZW50IHRvIHRoYXQgY2luZW1hIDIgbW9udGhzIGFnby48L3A+Cgo8b2wgY2xhc3M9InF1aXotbGlzdCIgdHlwZT0iQSI+Cgk8bGk+V2UgaGF2ZSBiZWVuIHRvIHRoZSBjaW5lbWEgZm9yIDIgbW9udGhzLjwvbGk+Cgk8bGkgY2xhc3M9ImNvcnJlY3RBbnN3ZXIiPldlIGhhdmVuJiMzOTt0IGJlZW4gdG8gdGhlIGNpbmVtYSBmb3IgMiBtb250aHMuPC9saT4KCTxsaT5XZSBkaWRuJiMzOTt0IHdhbnQgdG8gZ28gdG8gdGhlIGNpbmVtYSBhbnltb3JlLjwvbGk+Cgk8bGk+V2UgZGlkbiYjMzk7dCBnbyB0byB0aGUgY2luZW1hIGZvciAyIG1vbnRocy48L2xpPgo8L29sPg==\\\",         \\\"id_questiontype\\\": \\\"\\\",         \\\"modified\\\": \\\"2024-02-18 23:20:49\\\",         \\\"old_id\\\": 0,         \\\"iduser\\\": \\\"10976733756519\\\",         \\\"level\\\": 1,         \\\"q_type\\\": 1,         \\\"code\\\": 0,         \\\"requires\\\": \\\"\\\",         \\\"score\\\": 1,         \\\"reviewed\\\": 0,         \\\"id\\\": 202037787519,         \\\"last_modified\\\": \\\"2024-02-18 23:20:49\\\",         \\\"id_subject\\\": 3,         \\\"_level\\\": {             \\\"label\\\": \\\"Nh\\\\u1eadn bi\\\\u1ebft\\\",             \\\"short_label\\\": \\\"NB\\\"         }     },     {         \\\"_id\\\": \\\"65d22e615ffd8ec457077cb4\\\",         \\\"title\\\": \\\"C\\\\u00e2u 3\\\",         \\\"content\\\": \\\"PHA+SXQgaXMgY29tcHVsc29yeSBmb3IgYWxsIHRoZSBzdHVkZW50cyB0byBmaW5pc2ggdGhlaXIgY2xhc3Mgd29yayBiZWZvcmUgZ29pbmcgaG9tZS48L3A+Cgo8b2wgY2xhc3M9InF1aXotbGlzdCIgdHlwZT0iQSI+Cgk8bGk+QWxsIHRoZSBzdHVkZW50cyBjYW4mcnNxdW87dCBmaW5pc2ggdGhlaXIgY2xhc3Mgd29yayBiZWZvcmUgZ29pbmcgaG9tZS48L2xpPgoJPGxpPkFsbCB0aGUgc3R1ZGVudHMgbWF5IGZpbmlzaCB0aGVpciBjbGFzcyB3b3JrIGJlZm9yZSBnb2luZyBob21lLjwvbGk+Cgk8bGk+QWxsIHRoZSBzdHVkZW50cyBuZWVkbiZyc3F1bzt0IGZpbmlzaCB0aGVpciBjbGFzcyB3b3JrIGJlZm9yZSBnb2luZyBob21lLjwvbGk+Cgk8bGkgY2xhc3M9ImNvcnJlY3RBbnN3ZXIiPkFsbCB0aGUgc3R1ZGVudHMgbXVzdCBmaW5pc2ggdGhlaXIgY2xhc3Mgd29yayBiZWZvcmUgZ29pbmcgaG9tZS48L2xpPgo8L29sPg==\\\",         \\\"id_questiontype\\\": \\\"\\\",         \\\"modified\\\": \\\"2024-02-18 23:20:49\\\",         \\\"old_id\\\": 0,         \\\"iduser\\\": \\\"10976733756519\\\",         \\\"level\\\": 1,         \\\"q_type\\\": 1,         \\\"code\\\": 0,         \\\"requires\\\": \\\"\\\",         \\\"score\\\": 1,         \\\"reviewed\\\": 0,         \\\"id\\\": 202037788262,         \\\"last_modified\\\": \\\"2024-02-18 23:20:49\\\",         \\\"id_subject\\\": 3,         \\\"_level\\\": {             \\\"label\\\": \\\"Nh\\\\u1eadn bi\\\\u1ebft\\\",             \\\"short_label\\\": \\\"NB\\\"         }     },     {         \\\"_id\\\": \\\"65d22e62cb8d7734c502d07f\\\",         \\\"title\\\": \\\"C\\\\u00e2u 4\\\",         \\\"content\\\": \\\"PHA+Jm5ic3A7Tm8gb3RoZXIgc3R1ZGVudCBpbiBoaXMgY2xhc3MgaXMgYXMgc3VjY2Vzc2Z1bCBhcyBQYXQuPC9wPgoKPG9sIGNsYXNzPSJxdWl6LWxpc3QiIHR5cGU9IkEiPgoJPGxpPlBhdCBzdWNjZWVkZWQgaW4gYmVhdGluZyBhbGwgb3RoZXIgc3R1ZGVudHMgaW4gaGlzIGNsYXNzLjwvbGk+Cgk8bGkgY2xhc3M9ImNvcnJlY3RBbnN3ZXIiPlBhdCBpcyB0aGUgbW9zdCBzdWNjZXNzZnVsIHN0dWRlbnQgaW4gaGlzIGNsYXNzLjwvbGk+Cgk8bGk+SGlzIGNsYXNzIGlzIGxlc3Mgc3VjY2Vzc2Z1bCB0aGFuIFBhdCBpcy48L2xpPgoJPGxpPlRoZSBtb3JlIHN1Y2Nlc3NmdWwgaGlzIGNsYXNzIGlzLCB0aGUgbW9yZSBzdWNjZXNzIFBhdCBnZXRzLjwvbGk+Cjwvb2w+\\\",         \\\"id_questiontype\\\": \\\"\\\",         \\\"modified\\\": \\\"2024-02-18 23:20:50\\\",         \\\"old_id\\\": 0,         \\\"iduser\\\": \\\"10976733756519\\\",         \\\"level\\\": 1,         \\\"q_type\\\": 1,         \\\"code\\\": 0,         \\\"requires\\\": \\\"\\\",         \\\"score\\\": 1,         \\\"reviewed\\\": 0,         \\\"id\\\": 202037789708,         \\\"last_modified\\\": \\\"2024-02-18 23:20:50\\\",         \\\"id_subject\\\": 3,         \\\"_level\\\": {             \\\"label\\\": \\\"Nh\\\\u1eadn bi\\\\u1ebft\\\",             \\\"short_label\\\": \\\"NB\\\"         }     },     {         \\\"_id\\\": \\\"65d22e6271f0e78826024168\\\",         \\\"title\\\": \\\"C\\\\u00e2u 5\\\",         \\\"content\\\": \\\"PHA+JnF1b3Q7SSBhbSBkb2luZyBhIHN1cnZleSBpbiB0aGUgc2Nob29sLiZxdW90OyBCZWxsYSBzYWlkLjwvcD4KCjxvbCBjbGFzcz0icXVpei1saXN0IiB0eXBlPSJBIj4KCTxsaSBjbGFzcz0iY29ycmVjdEFuc3dlciI+QmVsbGEgc2FpZCB0aGF0IHNoZSB3YXMgZG9pbmcgYSBzdXJ2ZXkgaW4gdGhlIHNjaG9vbC48L2xpPgoJPGxpPkJlbGxhIHNhaWQgdGhhdCBJIHdhcyBkb2luZyBhIHN1cnZleSBpbiB0aGUgc2Nob29sLjwvbGk+Cgk8bGk+QmVsbGEgc2FpZCB0aGF0IHNoZSBpcyBkb2luZyBhIHN1cnZleSBpbiB0aGUgc2Nob29sLjwvbGk+Cgk8bGk+QmVsbGEgc2FpZCB0aGF0IEkgYW0gZG9pbmcgYSBzdXJ2ZXkgaW4gdGhlIHNjaG9vbC48L2xpPgo8L29sPg==\\\",         \\\"id_questiontype\\\": \\\"\\\",         \\\"modified\\\": \\\"2024-02-18 23:20:50\\\",         \\\"old_id\\\": 0,         \\\"iduser\\\": \\\"10976733756519\\\",         \\\"level\\\": 1,         \\\"q_type\\\": 1,         \\\"code\\\": 0,         \\\"requires\\\": \\\"\\\",         \\\"score\\\": 1,         \\\"reviewed\\\": 0,         \\\"id\\\": 202037790540,         \\\"last_modified\\\": \\\"2024-02-18 23:20:50\\\",         \\\"id_subject\\\": 3,         \\\"_level\\\": {             \\\"label\\\": \\\"Nh\\\\u1eadn bi\\\\u1ebft\\\",             \\\"short_label\\\": \\\"NB\\\"         }     },     {         \\\"_id\\\": \\\"65d22e637586e2a33704fcd9\\\",         \\\"title\\\": \\\"C\\\\u00e2u 6\\\",         \\\"content\\\": \\\"PHA+PGVtPllvdSBhcmUgbm90IGFsbG93ZWQgdG8gdXNlIHlvdXIgbW9iaWxlIHBob25lIGhlcmUuPC9lbT48L3A+Cgo8b2wgY2xhc3M9InF1aXotbGlzdCIgdHlwZT0iQSI+Cgk8bGkgY2xhc3M9ImNvcnJlY3RBbnN3ZXIiPllvdSBtdXN0biYjMzk7dCB1c2UgeW91ciBtb2JpbGUgcGhvbmUgaGVyZS48L2xpPgoJPGxpPllvdSBuZWVkbiZyc3F1bzt0IHVzZSB5b3VyIG1vYmlsZSBwaG9uZSBoZXJlLjwvbGk+Cgk8bGk+WW91IHNob3VsZCB1c2UgeW91ciBtb2JpbGUgcGhvbmUgaGVyZS48L2xpPgoJPGxpPllvdSBtYXkgdXNlIHlvdXIgbW9iaWxlIHBob25lIGhlcmUuPC9saT4KPC9vbD4=\\\",         \\\"id_questiontype\\\": \\\"\\\",         \\\"modified\\\": \\\"2024-02-18 23:20:51\\\",         \\\"old_id\\\": 0,         \\\"iduser\\\": \\\"10976733756519\\\",         \\\"level\\\": 1,         \\\"q_type\\\": 1,         \\\"code\\\": 0,         \\\"requires\\\": \\\"\\\",         \\\"score\\\": 1,         \\\"reviewed\\\": 0,         \\\"id\\\": 202037791886,         \\\"last_modified\\\": \\\"2024-02-18 23:20:51\\\",         \\\"id_subject\\\": 3,         \\\"_level\\\": {             \\\"label\\\": \\\"Nh\\\\u1eadn bi\\\\u1ebft\\\",             \\\"short_label\\\": \\\"NB\\\"         }     },     {         \\\"_id\\\": \\\"65d22e6347f3aa27ba05b70a\\\",         \\\"title\\\": \\\"C\\\\u00e2u 7\\\",         \\\"content\\\": \\\"PHA+QWx0aG91Z2ggaGlzIGxlZ3Mgd2VyZSBicm9rZW4sIGhlIG1hbmFnZWQgdG8gZ2V0IG91dCBvZiB0aGUgY2FyIGJlZm9yZSBpdCBleHBsb2RlZC48L3A+Cgo8b2wgY2xhc3M9InF1aXotbGlzdCIgdHlwZT0iQSI+Cgk8bGk+RGVzcGl0ZSBoaXMgbGVncyB0byBiZSBicm9rZW4sIGhlIG1hbmFnZWQgdG8gZ2V0IG91dCBvZiB0aGUgY2FyIGJlZm9yZSBpdCBleHBsb2RlZC48L2xpPgoJPGxpPkRlc3BpdGUgaGlzIGJyb2tlbiBsZWdzLCBoZSB3YXMgYWJsZSB0byBnZXQgb3V0IG9mIHRoZSBjYXIgYmVmb3JlIGV4cGxvZGluZy48L2xpPgoJPGxpPkRlc3BpdGUgaGlzIGxlZ3Mgd2VyZSBicm9rZW4sIGhlIG1hbmFnZWQgdG8gZ2V0IG91dCBvZiB0aGUgY2FyIGJlZm9yZSBpdCBleHBsb2RlZC48L2xpPgoJPGxpIGNsYXNzPSJjb3JyZWN0QW5zd2VyIj5EZXNwaXRlIGhpcyBicm9rZW4gbGVncywgaGUgd2FzIGFibGUgdG8gZ2V0IG91dCBvZiB0aGUgY2FyIGJlZm9yZSBpdCBleHBsb2RlZC48L2xpPgo8L29sPg==\\\",         \\\"id_questiontype\\\": \\\"\\\",         \\\"modified\\\": \\\"2024-02-18 23:20:51\\\",         \\\"old_id\\\": 0,         \\\"iduser\\\": \\\"10976733756519\\\",         \\\"level\\\": 1,         \\\"q_type\\\": 1,         \\\"code\\\": 0,         \\\"requires\\\": \\\"\\\",         \\\"score\\\": 1,         \\\"reviewed\\\": 0,         \\\"id\\\": 202037792813,         \\\"last_modified\\\": \\\"2024-02-18 23:20:51\\\",         \\\"id_subject\\\": 3,         \\\"_level\\\": {             \\\"label\\\": \\\"Nh\\\\u1eadn bi\\\\u1ebft\\\",             \\\"short_label\\\": \\\"NB\\\"         }     },     {         \\\"_id\\\": \\\"65d22e64f80c03c588084a84\\\",         \\\"title\\\": \\\"C\\\\u00e2u 8\\\",         \\\"content\\\": \\\"PHA+JmxkcXVvO1dvdWxkIHlvdSBsaWtlIHRvIGdvIHRvIHRoZSBjaW5lbWEgd2l0aCBtZT8mcmRxdW87IEphbmUgc2FpZCB0byBNYXJ5LjwvcD4KCjxvbCBjbGFzcz0icXVpei1saXN0IiB0eXBlPSJBIj4KCTxsaT5KYW5lIGVuY291cmFnZWQgTWFyeSB0byBnbyB0byB0aGUgY2luZW1hIHdpdGggaGVyLjwvbGk+Cgk8bGk+SmFuZSByZW1pbmRlZCBNYXJ5IHRvIGdvIHRvIHRoZSBjaW5lbWEgd2l0aCBoZXIuPC9saT4KCTxsaSBjbGFzcz0iY29ycmVjdEFuc3dlciI+SmFuZSBpbnZpdGVkIE1hcnkgdG8gZ28gdG8gdGhlIGNpbmVtYSB3aXRoIGhlci48L2xpPgoJPGxpPkphbmUgcGVyc3VhZGVkIE1hcnkgdG8gZ28gdG8gdGhlIGNpbmVtYSB3aXRoIGhlci48L2xpPgo8L29sPg==\\\",         \\\"id_questiontype\\\": \\\"\\\",         \\\"modified\\\": \\\"2024-02-18 23:20:52\\\",         \\\"old_id\\\": 0,         \\\"iduser\\\": \\\"10976733756519\\\",         \\\"level\\\": 1,         \\\"q_type\\\": 1,         \\\"code\\\": 0,         \\\"requires\\\": \\\"\\\",         \\\"score\\\": 1,         \\\"reviewed\\\": 0,         \\\"id\\\": 202037793966,         \\\"last_modified\\\": \\\"2024-02-18 23:20:52\\\",         \\\"id_subject\\\": 3,         \\\"_level\\\": {             \\\"label\\\": \\\"Nh\\\\u1eadn bi\\\\u1ebft\\\",             \\\"short_label\\\": \\\"NB\\\"         }     },     {         \\\"_id\\\": \\\"65d22e656093f5ba9a01b7d2\\\",         \\\"title\\\": \\\"C\\\\u00e2u 9\\\",         \\\"content\\\": \\\"PHA+VGhleSB0aGluayB0aGUgb3duZXIgb2YgdGhlIGhvdXNlIGlzIGFicm9hZC48L3A+Cgo8b2wgY2xhc3M9InF1aXotbGlzdCIgdHlwZT0iQSI+Cgk8bGk+SXQgaXMgdGhvdWdodCB0aGF0IHRoZSBvd25lciBvZiB0aGUgaG91c2UgdG8gYmUgYWJyb2FkLjwvbGk+Cgk8bGkgY2xhc3M9ImNvcnJlY3RBbnN3ZXIiPlRoZSBvd25lciBvZiB0aGUgaG91c2UgaXMgdGhvdWdodCB0byBiZSBhYnJvYWQuPC9saT4KCTxsaT5JdCBpcyB0aG91Z2h0IHRvIGJlIGFicm9hZCBieSB0aGUgb3duZXIgb2YgdGhlIGhvdXNlLjwvbGk+Cgk8bGk+VGhlIG93bmVyIG9mIHRoZSBob3VzZSBpcyB0aG91Z2h0IGJ5IHRoZW0gdGhhdCBoZSB3aWxsIGJlIGFicm9hZC48L2xpPgo8L29sPg==\\\",         \\\"id_questiontype\\\": \\\"\\\",         \\\"modified\\\": \\\"2024-02-18 23:20:53\\\",         \\\"old_id\\\": 0,         \\\"iduser\\\": \\\"10976733756519\\\",         \\\"level\\\": 1,         \\\"q_type\\\": 1,         \\\"code\\\": 0,         \\\"requires\\\": \\\"\\\",         \\\"score\\\": 1,         \\\"reviewed\\\": 0,         \\\"id\\\": 202037794770,         \\\"last_modified\\\": \\\"2024-02-18 23:20:53\\\",         \\\"id_subject\\\": 3,         \\\"_level\\\": {             \\\"label\\\": \\\"Nh\\\\u1eadn bi\\\\u1ebft\\\",             \\\"short_label\\\": \\\"NB\\\"         }     },     {         \\\"_id\\\": \\\"65d22e6661e0296bf807ca6d\\\",         \\\"title\\\": \\\"C\\\\u00e2u 10\\\",         \\\"content\\\": \\\"PHA+SSBoYXZlbiYjMzk7dCBoZWFyZCBmcm9tIFN1c2FuIGZvciBzZXZlcmFsIG1vbnRocy48L3A+Cgo8b2wgY2xhc3M9InF1aXotbGlzdCIgdHlwZT0iQSI+Cgk8bGkgY2xhc3M9ImNvcnJlY3RBbnN3ZXIiPkkgbGFzdCBoZWFyZCBmcm9tIFN1c2FuIHNldmVyYWwgbW9udGhzIGFnby48L2xpPgoJPGxpPlN1c2FuIGRpZG4mIzM5O3QgaGVhciBmcm9tIG1lIHNldmVyYWwgbW9udGhzIGFnby48L2xpPgoJPGxpPlN1c2FuIGhlYXJkIGZyb20gbWUgc2V2ZXJhbCBtb250aHMgYWdvLjwvbGk+Cgk8bGk+SSBkaWRuJiMzOTt0IGhlYXIgZnJvbSBTdXNhbiBzZXZlcmFsIG1vbnRocyBhZ28uPC9saT4KPC9vbD4=\\\",         \\\"id_questiontype\\\": \\\"\\\",         \\\"modified\\\": \\\"2024-02-18 23:20:54\\\",         \\\"old_id\\\": 0,         \\\"iduser\\\": \\\"10976733756519\\\",         \\\"level\\\": 1,         \\\"q_type\\\": 1,         \\\"code\\\": 0,         \\\"requires\\\": \\\"\\\",         \\\"score\\\": 1,         \\\"reviewed\\\": 0,         \\\"id\\\": 202037795974,         \\\"last_modified\\\": \\\"2024-02-18 23:20:54\\\",         \\\"id_subject\\\": 3,         \\\"_level\\\": {             \\\"label\\\": \\\"Nh\\\\u1eadn bi\\\\u1ebft\\\",             \\\"short_label\\\": \\\"NB\\\"         }     },     {         \\\"_id\\\": \\\"65d22e66617e28c63e0bbc2e\\\",         \\\"title\\\": \\\"C\\\\u00e2u 11\\\",         \\\"content\\\": \\\"PHA+VGhlIGFyY2hpdGVjdCBoYXMgZHJhd24gcGxhbnMgZm9yIGFuIGV4dGVuc2lvbiB0byB0aGUgaG91c2UuPC9wPgoKPG9sIGNsYXNzPSJxdWl6LWxpc3QiIHR5cGU9IkEiPgoJPGxpPlBsYW5zIGhhdmUgYmVlbiBkcmF3biBmb3IgYW4gZXh0ZW5zaW9uIHRvIHRoZSBob3VzZSBieSB0aGUgYXJjaGl0ZWN0LjwvbGk+Cgk8bGk+VGhlIGhvdXNlIGhhcyBoYWQgaXRzIHBsYW5zIGZvciBhbiBleHRlbnNpb24gZHJhd24gYnkgdGhlIGFyY2hpdGVjdC48L2xpPgoJPGxpIGNsYXNzPSJjb3JyZWN0QW5zd2VyIj5QbGFucyBmb3IgYW4gZXh0ZW5zaW9uIHRvIHRoZSBob3VzZSBoYXZlIGJlZW4gZHJhd24gYnkgdGhlIGFyY2hpdGVjdC48L2xpPgoJPGxpPlRoZSBhcmNoaXRlY3QgaGFzIGhhZCB0aGUgcGxhbnMgZHJhd24gZm9yIGFuIGV4dGVuc2lvbiB0byB0aGUgaG91c2UuPC9saT4KPC9vbD4=\\\",         \\\"id_questiontype\\\": \\\"\\\",         \\\"modified\\\": \\\"2024-02-18 23:20:54\\\",         \\\"old_id\\\": 0,         \\\"iduser\\\": \\\"10976733756519\\\",         \\\"level\\\": 1,         \\\"q_type\\\": 1,         \\\"code\\\": 0,         \\\"requires\\\": \\\"\\\",         \\\"score\\\": 1,         \\\"reviewed\\\": 0,         \\\"id\\\": 202037796453,         \\\"last_modified\\\": \\\"2024-02-18 23:20:54\\\",         \\\"id_subject\\\": 3,         \\\"_level\\\": {             \\\"label\\\": \\\"Nh\\\\u1eadn bi\\\\u1ebft\\\",             \\\"short_label\\\": \\\"NB\\\"         }     },     {         \\\"_id\\\": \\\"65d22e67b5312fcf640b8c43\\\",         \\\"title\\\": \\\"C\\\\u00e2u 12\\\",         \\\"content\\\": \\\"PHA+VGhleSBkaWRuJnJzcXVvO3QgZ28gb24gaG9saWRheSB1bnRpbCB0aGV5IGhhZCBmaW5pc2hlZCB0aGUgcHJvamVjdC48L3A+Cgo8b2wgY2xhc3M9InF1aXotbGlzdCIgdHlwZT0iQSI+Cgk8bGk+SXQgd2FzIG5vdCB1bnRpbCB0aGV5IGhhZCBmaW5pc2hlZCB0aGUgcHJvamVjdCBkaWQgdGhleSBnbyBvbiBob2xpZGF5LjwvbGk+Cgk8bGk+VGhleSBkaWRuJnJzcXVvO3QgZ28gb24gaG9saWRheSBhZnRlciB0aGV5IGhhZCBmaW5pc2hlZCB0aGUgcHJvamVjdC48L2xpPgoJPGxpIGNsYXNzPSJjb3JyZWN0QW5zd2VyIj5Ob3QgdW50aWwgdGhleSBoYWQgZmluaXNoZWQgdGhlIHByb2plY3QgZGlkIHRoZXkgZ28gb24gaG9saWRheS48L2xpPgoJPGxpPkFmdGVyIGhhdmluZyBmaW5pc2hlZCB0aGUgcHJvamVjdCwgdGhleSBkZWxheWVkIGdvaW5nIG9uIGEgaG9saWRheS48L2xpPgo8L29sPg==\\\",         \\\"id_questiontype\\\": \\\"\\\",         \\\"modified\\\": \\\"2024-02-18 23:20:55\\\",         \\\"old_id\\\": 0,         \\\"iduser\\\": \\\"10976733756519\\\",         \\\"level\\\": 1,         \\\"q_type\\\": 1,         \\\"code\\\": 0,         \\\"requires\\\": \\\"\\\",         \\\"score\\\": 1,         \\\"reviewed\\\": 0,         \\\"id\\\": 202037797217,         \\\"last_modified\\\": \\\"2024-02-18 23:20:55\\\",         \\\"id_subject\\\": 3,         \\\"_level\\\": {             \\\"label\\\": \\\"Nh\\\\u1eadn bi\\\\u1ebft\\\",             \\\"short_label\\\": \\\"NB\\\"         }     },     {         \\\"_id\\\": \\\"65d22e67d296eef53f067b45\\\",         \\\"title\\\": \\\"C\\\\u00e2u 13\\\",         \\\"content\\\": \\\"PHA+SGUgbGFzdGVkIGhhZCBoaXMgdGVldGggY2hlY2tlZCA2IG1vbnRocyBhZ28uPC9wPgoKPG9sIGNsYXNzPSJxdWl6LWxpc3QiIHR5cGU9IkEiPgoJPGxpIGNsYXNzPSJjb3JyZWN0QW5zd2VyIj5IZSBoYXNuJnJzcXVvO3QgaGFkIGhpcyB0ZWV0aCBjaGVja2VkIGZvciA2IG1vbnRocy48L2xpPgoJPGxpPkhlIGhhcyBoYWQgaGlzIHRlZXRoIGNoZWNrZWQgZm9yIDYgbW9udGhzLjwvbGk+Cgk8bGk+SGUgd2lsbCBoYXZlIGhpcyB0ZWV0aCBjaGVja2VkIGluIDYgbW9udGhzLjwvbGk+Cgk8bGk+SGUgZGlkbiZyc3F1bzt0IGhhdmUgaGlzIHRlZXRoIGNoZWNrZWQgNiBtb250aHMgYWdvLjwvbGk+Cjwvb2w+\\\",         \\\"id_questiontype\\\": \\\"\\\",         \\\"modified\\\": \\\"2024-02-18 23:20:55\\\",         \\\"old_id\\\": 0,         \\\"iduser\\\": \\\"10976733756519\\\",         \\\"level\\\": 1,         \\\"q_type\\\": 1,         \\\"code\\\": 0,         \\\"requires\\\": \\\"\\\",         \\\"score\\\": 1,         \\\"reviewed\\\": 0,         \\\"id\\\": 202037798236,         \\\"last_modified\\\": \\\"2024-02-18 23:20:55\\\",         \\\"id_subject\\\": 3,         \\\"_level\\\": {             \\\"label\\\": \\\"Nh\\\\u1eadn bi\\\\u1ebft\\\",             \\\"short_label\\\": \\\"NB\\\"         }     },     {         \\\"_id\\\": \\\"65d22e689b7cf0b4d005fa43\\\",         \\\"title\\\": \\\"C\\\\u00e2u 14\\\",         \\\"content\\\": \\\"PHA+JmxkcXVvO0kmcnNxdW87bSBzb3JyeS4gSSBkaWRuJnJzcXVvO3QgcmVtZW1iZXIgdG8gcHV0IHlvdXIgY2xvdGhlcyBpbnRvIHRoZSB3YXNoaW5nIG1hY2hpbmUsJnJkcXVvOyBzYWlkIFBldGVyIHRvIExpbmRhLjwvcD4KCjxvbCBjbGFzcz0icXVpei1saXN0IiB0eXBlPSJBIj4KCTxsaT5QZXRlciBhZHZpc2VkIExpbmRhIG5vdCB0byBwdXQgaGVyIGNsb3RoZXMgaW50byB0aGUgd2FzaGluZyBtYWNoaW5lLjwvbGk+Cgk8bGkgY2xhc3M9ImNvcnJlY3RBbnN3ZXIiPlBldGVyIGFwb2xvZ2l6ZWQgdG8gTGluZGEgZm9yIG5vdCBoYXZpbmcgcHV0IGhlciBjbG90aGVzIGludG8gdGhlIHdhc2hpbmcgbWFjaGluZS48L2xpPgoJPGxpPlBldGVyIHdhcm5lZCBMaW5kYSBub3QgdG8gcHV0IGhlciBjbG90aGVzIGludG8gdGhlIHdhc2hpbmcgbWFjaGluZS48L2xpPgoJPGxpPlBldGVyIGVuY291cmFnZWQgTGluZGEgbm90IHRvIHB1dCBoZXIgY2xvdGhlcyBpbnRvIHRoZSB3YXNoaW5nIG1hY2hpbmUuPC9saT4KPC9vbD4=\\\",         \\\"id_questiontype\\\": \\\"\\\",         \\\"modified\\\": \\\"2024-02-18 23:20:56\\\",         \\\"old_id\\\": 0,         \\\"iduser\\\": \\\"10976733756519\\\",         \\\"level\\\": 1,         \\\"q_type\\\": 1,         \\\"code\\\": 0,         \\\"requires\\\": \\\"\\\",         \\\"score\\\": 1,         \\\"reviewed\\\": 0,         \\\"id\\\": 202037799796,         \\\"last_modified\\\": \\\"2024-02-18 23:20:56\\\",         \\\"id_subject\\\": 3,         \\\"_level\\\": {             \\\"label\\\": \\\"Nh\\\\u1eadn bi\\\\u1ebft\\\",             \\\"short_label\\\": \\\"NB\\\"         }     },     {         \\\"_id\\\": \\\"65d22e6808036f97a70914ee\\\",         \\\"title\\\": \\\"C\\\\u00e2u 15\\\",         \\\"content\\\": \\\"PHA+SXQgd2FzIHdyb25nIG9mIHlvdSB0byBnbyBvdXQgYW1pZCB0aGUgcGFuZGVtaWMuPC9wPgoKPG9sIGNsYXNzPSJxdWl6LWxpc3QiIHR5cGU9IkEiPgoJPGxpPllvdSBtdXN0IGhhdmUgZ29uZSBvdXQgYW1pZCB0aGUgcGFuZGVtaWMuPC9saT4KCTxsaSBjbGFzcz0iY29ycmVjdEFuc3dlciI+WW91IHNob3VsZG4mcnNxdW87dCBoYXZlIGdvbmUgb3V0IGFtaWQgdGhlIHBhbmRlbWljLjwvbGk+Cgk8bGk+WW91IG5lZWRuJnJzcXVvO3QgaGF2ZSBnb25lIG91dCBhbWlkIHRoZSBwYW5kZW1pYy48L2xpPgoJPGxpPllvdSBjb3VsZCBoYXZlIGdvbmUgb3V0IGFtaWQgdGhlIHBhbmRlbWljLjwvbGk+Cjwvb2w+\\\",         \\\"id_questiontype\\\": \\\"\\\",         \\\"modified\\\": \\\"2024-02-18 23:20:56\\\",         \\\"old_id\\\": 0,         \\\"iduser\\\": \\\"10976733756519\\\",         \\\"level\\\": 1,         \\\"q_type\\\": 1,         \\\"code\\\": 0,         \\\"requires\\\": \\\"\\\",         \\\"score\\\": 1,         \\\"reviewed\\\": 0,         \\\"id\\\": 202037800747,         \\\"last_modified\\\": \\\"2024-02-18 23:20:56\\\",         \\\"id_subject\\\": 3,         \\\"_level\\\": {             \\\"label\\\": \\\"Nh\\\\u1eadn bi\\\\u1ebft\\\",             \\\"short_label\\\": \\\"NB\\\"         }     },     {         \\\"_id\\\": \\\"65d22e697ba95125c6008178\\\",         \\\"title\\\": \\\"C\\\\u00e2u 16\\\",         \\\"content\\\": \\\"PHAgY2xhc3M9Ik1zb05vcm1hbCIgc3R5bGU9InRleHQtYWxpZ246anVzdGlmeTtsaW5lLWhlaWdodDoxMTUlO3RhYi1zdG9wczoxNC4ycHQiPjxiIHN0eWxlPSJtc28tYmlkaS1mb250LXdlaWdodDpub3JtYWwiPjxpIHN0eWxlPSJtc28tYmlkaS1mb250LXN0eWxlOm5vcm1hbCI+PHNwYW4gc3R5bGU9Im1zby1mYXJlYXN0LWZvbnQtZmFtaWx5OkNhbGlicmkiPk1hcmsgdGhlIGxldHRlciBBLCBCLCBDLCBvciBEIG9uIHlvdXIgYW5zd2VyIHNoZWV0IHRvIGluZGljYXRlIHRoZSBzZW50ZW5jZSB0aGF0IGJlc3QgY29tYmluZXMgZWFjaCBwYWlyIG9mIHNlbnRlbmNlcyBpbiB0aGUgZm9sbG93aW5nIHF1ZXN0aW9ucyAoPC9zcGFuPjwvaT48L2I+PGIgc3R5bGU9InRleHQtYWxpZ246IGp1c3RpZnk7Ij48aT5RdWVzdGlvbnMgMTYtMjUpPC9pPjwvYj48YiBzdHlsZT0ibXNvLWJpZGktZm9udC13ZWlnaHQ6bm9ybWFsIj48aSBzdHlsZT0ibXNvLWJpZGktZm9udC1zdHlsZTpub3JtYWwiPjxzcGFuIHN0eWxlPSJtc28tZmFyZWFzdC1mb250LWZhbWlseTpDYWxpYnJpIj4uPG86cD48L286cD48L3NwYW4+PC9pPjwvYj48L3A+Cgo8cD5QYXVsaW5lIHdhcyBpbnRlcmVzdGVkIGluIHRoZSBwcm9qZWN0LiBJdCB3YXMgbm90IGFiYW5kb25lZC48L3A+Cgo8b2wgY2xhc3M9InF1aXotbGlzdCIgdHlwZT0iQSI+Cgk8bGk+Tm8gc29vbmVyIGhhZCBQYXVsaW5lIGJlZW4gaW50ZXJlc3RlZCBpbiB0aGUgcHJvamVjdCB0aGFuIGl0IHdhcyBhYmFuZG9uZWQuPC9saT4KCTxsaT5Pbmx5IHdoZW4gUGF1bGluZSB3YXMgaW50ZXJlc3RlZCBpbiB0aGUgcHJvamVjdCB3YXMgaXQgYWJhbmRvbmVkLjwvbGk+Cgk8bGk+Tm90IHVudGlsIFBhdWxpbmUgd2FzIGludGVyZXN0ZWQgaW4gdGhlIHByb2plY3QgdGhhdCBpdCB3YXMgYWJhbmRvbmVkLjwvbGk+Cgk8bGkgY2xhc3M9ImNvcnJlY3RBbnN3ZXIiPkhhZCBQYXVsaW5lIG5vdCBiZWVuIGludGVyZXN0ZWQsIHRoZSBwcm9qZWN0IHdvdWxkIGhhdmUgYmVlbiBhYmFuZG9uZWQuPC9saT4KPC9vbD4=\\\",         \\\"id_questiontype\\\": \\\"\\\",         \\\"modified\\\": \\\"2024-02-18 23:20:57\\\",         \\\"old_id\\\": 0,         \\\"iduser\\\": \\\"10976733756519\\\",         \\\"level\\\": 1,         \\\"q_type\\\": 1,         \\\"code\\\": 0,         \\\"requires\\\": \\\"\\\",         \\\"score\\\": 1,         \\\"reviewed\\\": 0,         \\\"id\\\": 202037801525,         \\\"last_modified\\\": \\\"2024-02-18 23:20:57\\\",         \\\"id_subject\\\": 3,         \\\"_level\\\": {             \\\"label\\\": \\\"Nh\\\\u1eadn bi\\\\u1ebft\\\",             \\\"short_label\\\": \\\"NB\\\"         }     },     {         \\\"_id\\\": \\\"65d22e6a310397b34c004724\\\",         \\\"title\\\": \\\"C\\\\u00e2u 17\\\",         \\\"content\\\": \\\"PHA+T3VyIGZhdm9yaXRlIHJlc3RhdXJhbnQgaXMgZnVsbC4gV2UgY2FuJiMzOTt0IGdldCBhIHRhYmxlIHJpZ2h0IG5vdy48L3A+Cgo8b2wgY2xhc3M9InF1aXotbGlzdCIgdHlwZT0iQSI+Cgk8bGkgY2xhc3M9ImNvcnJlY3RBbnN3ZXIiPklmIG91ciBmYXZvcml0ZSByZXN0YXVyYW50IHdlcmUgbm90IGZ1bGwsIHdlIGNvdWxkIGdldCBhIHRhYmxlIHJpZ2h0IG5vdy48L2xpPgoJPGxpPklmIHNvbWVvbmUgbGVhdmVzIG91ciBmYXZvcml0ZXMgcmVzdGF1cmFudCwgd2UgY291bGQgZ2V0IGEgdGFibGUuPC9saT4KCTxsaT5Qcm92aWRlZCB0aGF0IG91ciBmYXZvcml0ZSByZXN0YXVyYW50IGlzIGZ1bGwsIHdlIGNhbiYjMzk7dCBnZXQgYSB0YWJsZSByaWdodCBub3cuPC9saT4KCTxsaT5JZiBvdXIgZmF2b3JpdGUgcmVzdGF1cmFudCBpcyBub3QgZnVsbCwgd2Ugd2lsbCBiZSBhYmxlIHRvIGdldCBhIHRhYmxlIHJpZ2h0IG5vdy48L2xpPgo8L29sPg==\\\",         \\\"id_questiontype\\\": \\\"\\\",         \\\"modified\\\": \\\"2024-02-18 23:20:58\\\",         \\\"old_id\\\": 0,         \\\"iduser\\\": \\\"10976733756519\\\",         \\\"level\\\": 1,         \\\"q_type\\\": 1,         \\\"code\\\": 0,         \\\"requires\\\": \\\"\\\",         \\\"score\\\": 1,         \\\"reviewed\\\": 0,         \\\"id\\\": 202037802846,         \\\"last_modified\\\": \\\"2024-02-18 23:20:58\\\",         \\\"id_subject\\\": 3,         \\\"_level\\\": {             \\\"label\\\": \\\"Nh\\\\u1eadn bi\\\\u1ebft\\\",             \\\"short_label\\\": \\\"NB\\\"         }     },     {         \\\"_id\\\": \\\"65d22e6a630b57d0ba01e676\\\",         \\\"title\\\": \\\"C\\\\u00e2u 18\\\",         \\\"content\\\": \\\"PHA+Tm8gc29vbmVyIGhhZCBQaGF0IHB1dCB0aGUgbW9iaWxlIHBob25lIGRvd24gdGhhbiBoaXMgdGVhY2hlciByYW5nIGJhY2suPC9wPgoKPG9sIGNsYXNzPSJxdWl6LWxpc3QiIHR5cGU9IkEiPgoJPGxpPkFzIHNvb24gYXMgaGlzIHRlYWNoZXIgcmFuZyBiYWNrLCBQaGF0IHB1dCBkb3duIHRoZSBtb2JpbGUgcGhvbmUuPC9saT4KCTxsaSBjbGFzcz0iY29ycmVjdEFuc3dlciI+U2NhcmNlbHkgaGFkIFBoYXQgcHV0IHRoZSBtb2JpbGUgcGhvbmUgZG93biB3aGVuIGhpcyB0ZWFjaGVyIHJhbmcgYmFjay48L2xpPgoJPGxpPkhhcmRseSBQaGF0IGhhZCBodW5nIHVwLCBoZSByYW5nIGhpcyB0ZWFjaGVyIGltbWVkaWF0ZWx5LjwvbGk+Cgk8bGk+UGhhdCBoYWQgaGFyZGx5IHB1dCB0aGUgdGVsZXBob25lIGRvd24gd2l0aG91dCBoaXMgdGVhY2hlciByYW5nIGJhY2suPC9saT4KPC9vbD4=\\\",         \\\"id_questiontype\\\": \\\"\\\",         \\\"modified\\\": \\\"2024-02-18 23:20:58\\\",         \\\"old_id\\\": 0,         \\\"iduser\\\": \\\"10976733756519\\\",         \\\"level\\\": 1,         \\\"q_type\\\": 1,         \\\"code\\\": 0,         \\\"requires\\\": \\\"\\\",         \\\"score\\\": 1,         \\\"reviewed\\\": 0,         \\\"id\\\": 202037803924,         \\\"last_modified\\\": \\\"2024-02-18 23:20:58\\\",         \\\"id_subject\\\": 3,         \\\"_level\\\": {             \\\"label\\\": \\\"Nh\\\\u1eadn bi\\\\u1ebft\\\",             \\\"short_label\\\": \\\"NB\\\"         }     },     {         \\\"_id\\\": \\\"65d22e6b0193490c67000f69\\\",         \\\"title\\\": \\\"C\\\\u00e2u 19\\\",         \\\"content\\\": \\\"PHA+SGUgY291bGRuJnJzcXVvO3QgcmV0YWtlIHRoZSBleGFtIGJlY2F1c2UgaGUgbWlzc2VkIHRvbyBtYW55IGxlc3NvbnMuPC9wPgoKPG9sIGNsYXNzPSJxdWl6LWxpc3QiIHR5cGU9IkEiPgoJPGxpPkhlIHdvdWxkIHJldGFrZSB0aGUgZXhhbSBpZiBoZSBkaWRuJnJzcXVvO3QgbWlzcyB0b28gbWFueSBsZXNzb25zLjwvbGk+Cgk8bGkgY2xhc3M9ImNvcnJlY3RBbnN3ZXIiPkhlIGNvdWxkIGhhdmUgcmV0YWtlbiB0aGUgZXhhbSBpZiBoZSBoYWRuJnJzcXVvO3QgbWlzc2VkIHRvbyBtYW55IGxlc3NvbnMuPC9saT4KCTxsaT5JZiBoZSBtaXNzZWQgdG9vIG1hbnkgbGVzc29ucywgaGUgd291bGRuJnJzcXVvO3QgcmV0YWtlIHRoZSBleGFtLjwvbGk+Cgk8bGk+SWYgaGUgaGFkIG1pc3NlZCB0b28gbWFueSBsZXNzb25zLCBoZSB3b3VsZG4mcnNxdW87dCBoYXZlIHJldGFrZW4gdGhlIGV4YW0uPC9saT4KPC9vbD4=\\\",         \\\"id_questiontype\\\": \\\"\\\",         \\\"modified\\\": \\\"2024-02-18 23:20:59\\\",         \\\"old_id\\\": 0,         \\\"iduser\\\": \\\"10976733756519\\\",         \\\"level\\\": 1,         \\\"q_type\\\": 1,         \\\"code\\\": 0,         \\\"requires\\\": \\\"\\\",         \\\"score\\\": 1,         \\\"reviewed\\\": 0,         \\\"id\\\": 202037804280,         \\\"last_modified\\\": \\\"2024-02-18 23:20:59\\\",         \\\"id_subject\\\": 3,         \\\"_level\\\": {             \\\"label\\\": \\\"Nh\\\\u1eadn bi\\\\u1ebft\\\",             \\\"short_label\\\": \\\"NB\\\"         }     },     {         \\\"_id\\\": \\\"65d22e6c354d8dddea01ccf5\\\",         \\\"title\\\": \\\"C\\\\u00e2u 20\\\",         \\\"content\\\": \\\"PHA+TW9zdCBvZiB0aGUgcGVvcGxlIHJlY292ZXJlZCBxdWlja2x5LiBUaGV5IHdlcmUgaW5qdXJlZCBpbiB0aGUgY3Jhc2guPC9wPgoKPG9sIGNsYXNzPSJxdWl6LWxpc3QiIHR5cGU9IkEiPgoJPGxpPlRoZSBwZW9wbGUgd2hvIHdlcmUgaW5qdXJlZCBpbiB0aGUgY3Jhc2gsIG1vc3Qgb2YgdGhlbSByZWNvdmVyZWQgcXVpY2tseS48L2xpPgoJPGxpPk1vc3Qgb2YgdGhlIHBlb3BsZSB3aG8gcmVjb3ZlcmVkIHF1aWNrbHkgd2VyZSBpbmp1cmVkIGluIHRoZSBjcmFzaC48L2xpPgoJPGxpPk1vc3Qgb2YgdGhlIHBlb3BsZSByZWNvdmVyZWQgcXVpY2tseSBhZnRlciB0aGUgY3Jhc2guPC9saT4KCTxsaSBjbGFzcz0iY29ycmVjdEFuc3dlciI+TW9zdCBvZiB0aGUgcGVvcGxlIGluanVyZWQgaW4gdGhlIGNyYXNoIHJlY292ZXJlZCBxdWlja2x5LjwvbGk+Cjwvb2w+\\\",         \\\"id_questiontype\\\": \\\"\\\",         \\\"modified\\\": \\\"2024-02-18 23:21:00\\\",         \\\"old_id\\\": 0,         \\\"iduser\\\": \\\"10976733756519\\\",         \\\"level\\\": 1,         \\\"q_type\\\": 1,         \\\"code\\\": 0,         \\\"requires\\\": \\\"\\\",         \\\"score\\\": 1,         \\\"reviewed\\\": 0,         \\\"id\\\": 202037805264,         \\\"last_modified\\\": \\\"2024-02-18 23:21:00\\\",         \\\"id_subject\\\": 3,         \\\"_level\\\": {             \\\"label\\\": \\\"Nh\\\\u1eadn bi\\\\u1ebft\\\",             \\\"short_label\\\": \\\"NB\\\"         }     },     {         \\\"_id\\\": \\\"65d22e6c686e54682a0dab83\\\",         \\\"title\\\": \\\"C\\\\u00e2u 21\\\",         \\\"content\\\": \\\"PHA+TXIuU21pdGggaXMgYSBwcm9mZXNzb3IuIEhpcyBjYXIgd2FzIHN0b2xlbiB5ZXN0ZXJkYXkuPC9wPgoKPG9sIGNsYXNzPSJxdWl6LWxpc3QiIHR5cGU9IkEiPgoJPGxpPkhpcyBjYXIgd2FzIHN0b2xlbiB5ZXN0ZXJkYXksIGhlIGlzIGEgcHJvZmVzc29yLjwvbGk+Cgk8bGk+TXIuU21pdGgsIHdobyBoaXMgY2FyIHdhcyBzdG9sZW4geWVzdGVyZGF5LCBpcyBhIHByb2Zlc3Nvci48L2xpPgoJPGxpPk1yLlNtaXRoLCB3aG8gaXMgYSBwcm9mZXNzb3IsIGhpcyBjYXIgd2FzIHN0b2xlbiB5ZXN0ZXJkYXkuPC9saT4KCTxsaSBjbGFzcz0iY29ycmVjdEFuc3dlciI+TXIuU21pdGgsIHdob3NlIGNhciB3YXMgc3RvbGVuIHllc3RlcmRheSwgaXMgYSBwcm9mZXNzb3IuPC9saT4KPC9vbD4=\\\",         \\\"id_questiontype\\\": \\\"\\\",         \\\"modified\\\": \\\"2024-02-18 23:21:00\\\",         \\\"old_id\\\": 0,         \\\"iduser\\\": \\\"10976733756519\\\",         \\\"level\\\": 1,         \\\"q_type\\\": 1,         \\\"code\\\": 0,         \\\"requires\\\": \\\"\\\",         \\\"score\\\": 1,         \\\"reviewed\\\": 0,         \\\"id\\\": 202037806658,         \\\"last_modified\\\": \\\"2024-02-18 23:21:00\\\",         \\\"id_subject\\\": 3,         \\\"_level\\\": {             \\\"label\\\": \\\"Nh\\\\u1eadn bi\\\\u1ebft\\\",             \\\"short_label\\\": \\\"NB\\\"         }     },     {         \\\"_id\\\": \\\"65d22e6da0bc041c870d7abc\\\",         \\\"title\\\": \\\"C\\\\u00e2u 22\\\",         \\\"content\\\": \\\"PHA+Sm9obiB3YXMgbm90IGhlcmUgeWVzdGVyZGF5LiBQZXJoYXBzIGhlIHdhcyBpbGwuPC9wPgoKPG9sIGNsYXNzPSJxdWl6LWxpc3QiIHR5cGU9IkEiPgoJPGxpPkpvaG4gbmVlZG4mIzM5O3QgYmUgaGVyZSB5ZXN0ZXJkYXkgYmVjYXVzZSBoZSB3YXMgaWxsLjwvbGk+Cgk8bGk+QmVjYXVzZSBvZiBoaXMgaWxsbmVzcywgSm9obiBzaG91bGQgaGF2ZSBiZWVuIGhlcmUgeWVzdGVyZGF5LjwvbGk+Cgk8bGkgY2xhc3M9ImNvcnJlY3RBbnN3ZXIiPkpvaG4gbWlnaHQgaGF2ZSBiZWVuIGlsbCB5ZXN0ZXJkYXksIHNvIGhlIHdhcyBub3QgaGVyZS48L2xpPgoJPGxpPkpvaG4gbXVzdCBoYXZlIGJlZW4gaWxsIHllc3RlcmRheSwgc28gaGUgd2FzIG5vdCBoZXJlLjwvbGk+Cjwvb2w+\\\",         \\\"id_questiontype\\\": \\\"\\\",         \\\"modified\\\": \\\"2024-02-18 23:21:01\\\",         \\\"old_id\\\": 0,         \\\"iduser\\\": \\\"10976733756519\\\",         \\\"level\\\": 1,         \\\"q_type\\\": 1,         \\\"code\\\": 0,         \\\"requires\\\": \\\"\\\",         \\\"score\\\": 1,         \\\"reviewed\\\": 0,         \\\"id\\\": 202037807620,         \\\"last_modified\\\": \\\"2024-02-18 23:21:01\\\",         \\\"id_subject\\\": 3,         \\\"_level\\\": {             \\\"label\\\": \\\"Nh\\\\u1eadn bi\\\\u1ebft\\\",             \\\"short_label\\\": \\\"NB\\\"         }     },     {         \\\"_id\\\": \\\"65d22e6ded0d44864b0ec4fd\\\",         \\\"title\\\": \\\"C\\\\u00e2u 23\\\",         \\\"content\\\": \\\"PHA+U2luY2Ugd2UgaGFkIG5vdGhpbmcgZWxzZSB0byBkbywgd2UgZGVjaWRlZCB0byBnbyBmb3IgYSB3YWxrLjwvcD4KCjxvbCBjbGFzcz0icXVpei1saXN0IiB0eXBlPSJBIj4KCTxsaT5IYXZlIG5vdGhpbmcgZWxzZSB0byBkbywgd2UgZGVjaWRlZCB0byBnbyBmb3IgYSB3YWxrLjwvbGk+Cgk8bGk+U2luY2UgaGF2aW5nIG5vdGhpbmcgZWxzZSB0byBkbywgd2UgZGVjaWRlZCB0byBnbyBmb3IgYSB3YWxrLjwvbGk+Cgk8bGkgY2xhc3M9ImNvcnJlY3RBbnN3ZXIiPkhhdmluZyBub3RoaW5nIGVsc2UgdG8gZG8sIHdlIGRlY2lkZWQgdG8gZ28gZm9yIGEgd2Fsay48L2xpPgoJPGxpPkJlY2F1c2UgaGF2aW5nIG5vdGhpbmcgZWxzZSB0byBkbywgd2UgZGVjaWRlZCB0byBnbyBmb3IgYSB3YWxrLjwvbGk+Cjwvb2w+\\\",         \\\"id_questiontype\\\": \\\"\\\",         \\\"modified\\\": \\\"2024-02-18 23:21:01\\\",         \\\"old_id\\\": 0,         \\\"iduser\\\": \\\"10976733756519\\\",         \\\"level\\\": 1,         \\\"q_type\\\": 1,         \\\"code\\\": 0,         \\\"requires\\\": \\\"\\\",         \\\"score\\\": 1,         \\\"reviewed\\\": 0,         \\\"id\\\": 202037808387,         \\\"last_modified\\\": \\\"2024-02-18 23:21:01\\\",         \\\"id_subject\\\": 3,         \\\"_level\\\": {             \\\"label\\\": \\\"Nh\\\\u1eadn bi\\\\u1ebft\\\",             \\\"short_label\\\": \\\"NB\\\"         }     },     {         \\\"_id\\\": \\\"65d22e6e37b69c58a504381f\\\",         \\\"title\\\": \\\"C\\\\u00e2u 24\\\",         \\\"content\\\": \\\"PHA+PGVtPlNlYW4mcnNxdW87cyBtb2JpbGUgcGhvbmUgaXMgbm90IGNvbm5lY3RlZCB0byB0aGUgSW50ZXJuZXQuIEhlIGNhbiZyc3F1bzt0IGZpbmQgdGhlIG5lZWRlZCBtYXRlcmlhbHMuPC9lbT48L3A+Cgo8b2wgY2xhc3M9InF1aXotbGlzdCIgdHlwZT0iQSI+Cgk8bGk+SWYgU2VhbiZyc3F1bztzIG1vYmlsZSB3ZXJlIGNvbm5lY3RlZCB0byB0aGUgSW50ZXJuZXQsIHNvIGhlIGNvdWxkIGZpbmQgdGhlIG5lZWRlZCBtYXRlcmlhbHMuPC9saT4KCTxsaT5BcyBsb25nIGFzIFNlYW4mcnNxdW87cyBtb2JpbGUgcGhvbmUgaXMgY29ubmVjdGVkIHRvIHRoZSBJbnRlcm5ldCwgaGUgY291bGQgZmluZCB0aGUgbmVlZGVkIG1hdGVyaWFscy48L2xpPgoJPGxpPklmIG9ubHkgU2VhbiZyc3F1bztzIG1vYmlsZSBwaG9uZSBoYWQgYmVlbiBjb25uZWN0ZWQgdG8gdGhlIEludGVybmV0IGFuZCBoZSBjb3VsZCBmaW5kIHRoZSBuZWVkZWQgbWF0ZXJpYWxzLjwvbGk+Cgk8bGkgY2xhc3M9ImNvcnJlY3RBbnN3ZXIiPlNlYW4gd2lzaGVzIGhpcyBtb2JpbGUgcGhvbmUgd2VyZSBjb25uZWN0ZWQgdG8gdGhlIEludGVybmV0LCBzbyBoZSBjb3VsZCBmaW5kIHRoZSBuZWVkZWQgbWF0ZXJpYWxzLjwvbGk+Cjwvb2w+\\\",         \\\"id_questiontype\\\": \\\"\\\",         \\\"modified\\\": \\\"2024-02-18 23:21:02\\\",         \\\"old_id\\\": 0,         \\\"iduser\\\": \\\"10976733756519\\\",         \\\"level\\\": 1,         \\\"q_type\\\": 1,         \\\"code\\\": 0,         \\\"requires\\\": \\\"\\\",         \\\"score\\\": 1,         \\\"reviewed\\\": 0,         \\\"id\\\": 202037809791,         \\\"last_modified\\\": \\\"2024-02-18 23:21:02\\\",         \\\"id_subject\\\": 3,         \\\"_level\\\": {             \\\"label\\\": \\\"Nh\\\\u1eadn bi\\\\u1ebft\\\",             \\\"short_label\\\": \\\"NB\\\"         }     },     {         \\\"_id\\\": \\\"65d22e6e3edd8cf0c60649ad\\\",         \\\"title\\\": \\\"C\\\\u00e2u 25\\\",         \\\"content\\\": \\\"PHA+SGFucyB0b2xkIHVzIGFib3V0IGhpcyBpbnZlc3RpbmcgaW4gdGhlIGNvbXBhbnkuIEhlIGRpZCBpdCBvbiBoaXMgYXJyaXZhbCBhdCB0aGUgbWVldGluZy48L3A+Cgo8b2wgY2xhc3M9InF1aXotbGlzdCIgdHlwZT0iQSI+Cgk8bGk+Tm90IHVudGlsIEhhbnMgdG9sZCB1cyB0aGF0IGhlIHdvdWxkIGludmVzdCBpbiB0aGUgY29tcGFueSBkaWQgaGUgYXJyaXZlIGF0IHRoZSBtZWV0aW5nLjwvbGk+Cgk8bGk+T25seSBhZnRlciBpbnZlc3RpbmcgaW4gdGhlIGNvbXBhbnkgZGlkIEhhbnMgaW5mb3JtcyB1cyBvZiBoaXMgYXJyaXZhbCBhdCB0aGUgbWVldGluZy48L2xpPgoJPGxpPkhhcmRseSBoYWQgaGUgaW5mb3JtZWQgdXMgYWJvdXQgaGlzIGludmVzdGluZyBpbiB0aGUgY29tcGFueSB3aGVuIEhhbnMgYXJyaXZlZCBhdCB0aGUgbWVldGluZy48L2xpPgoJPGxpIGNsYXNzPSJjb3JyZWN0QW5zd2VyIj5ObyBzb29uZXIgaGFkIEhhbnMgYXJyaXZlZCBhdCB0aGUgbWVldGluZyB0aGFuIGhlIHRvbGQgdXMgYWJvdXQgaGlzIGludmVzdGluZyBpbiB0aGUgY29tcGFueS48L2xpPgo8L29sPg==\\\",         \\\"id_questiontype\\\": \\\"\\\",         \\\"modified\\\": \\\"2024-02-18 23:21:02\\\",         \\\"old_id\\\": 0,         \\\"iduser\\\": \\\"10976733756519\\\",         \\\"level\\\": 1,         \\\"q_type\\\": 1,         \\\"code\\\": 0,         \\\"requires\\\": \\\"\\\",         \\\"score\\\": 1,         \\\"reviewed\\\": 0,         \\\"id\\\": 202037810825,         \\\"last_modified\\\": \\\"2024-02-18 23:21:02\\\",         \\\"id_subject\\\": 3,         \\\"_level\\\": {             \\\"label\\\": \\\"Nh\\\\u1eadn bi\\\\u1ebft\\\",             \\\"short_label\\\": \\\"NB\\\"         }     } ]\" # @param {type:\"string\"}\n",
        "\n",
        "\n",
        "if not user_input:\n",
        "    uploaded = files.upload()\n",
        "    file_name = list(uploaded.keys())[0]\n",
        "\n",
        "else:\n",
        "    file_name = \"temp_file\"\n",
        "    with open(file_name, 'w', encoding='utf-8') as f:\n",
        "        f.write(user_input)"
      ]
    },
    {
      "cell_type": "code",
      "source": [
        "# @title Process file\n",
        "\n",
        "import base64\n",
        "import html\n",
        "import os\n",
        "import sys\n",
        "import argparse\n",
        "import re\n",
        "\n",
        "\n",
        "def decode_file(fn):\n",
        "    # Open File and Read It.\n",
        "    with open(fn, \"r\") as file:\n",
        "        encodedQaAs = re.findall(r\"(?<=content\\\":\\s\\\").+?(?=\\\")\", file.read())\n",
        "\n",
        "    # Check if file is valid.\n",
        "    if not encodedQaAs:\n",
        "        with open(fn, \"r\") as file:\n",
        "            encodedQaAs = re.findall(r\"(?<=content\\\":\\\").+?(?=\\\")\", file.read())\n",
        "\n",
        "        if not encodedQaAs:\n",
        "            print(\"[Error] File is not supported! Exit.\")\n",
        "            return\n",
        "\n",
        "        else:\n",
        "            print(\"[INFO] File supported! Start decoding.\")\n",
        "    else:\n",
        "        print(\"[INFO] File supported! Start decoding.\")\n",
        "\n",
        "\n",
        "    # Decode QaA then store it in a list.\n",
        "    print(\"[INFO] Decoding questions and answers.\")\n",
        "    decodedQaAs = []\n",
        "    for encodedQaA in encodedQaAs:\n",
        "        decodedQaAs.append(html.unescape((base64.b64decode(encodedQaA)).decode(\"utf-8\")))\n",
        "\n",
        "    # Decode HTML and apply color format for correct answer.\n",
        "    print(\"[INFO] Applying color format.\")\n",
        "    split = []\n",
        "    questionNumber = 0\n",
        "\n",
        "    for decodedQaA in decodedQaAs:\n",
        "        if re.search(r\"<li class=\\\"correctAnswer\\\">\", decodedQaA) is None:\n",
        "            split.append(re.sub(r\"<li class = 'correctAnswer'>\", \"<li style=\\\"color:red\\\">\", decodedQaA))\n",
        "        else:\n",
        "            split.append(re.sub(r\"<li class=\\\"correctAnswer\\\">\", \"<li style=\\\"color:red\\\">\", decodedQaA))\n",
        "\n",
        "    # Save.\n",
        "    with open(\"decode.html\", \"w\", encoding=\"utf-8\") as file2:\n",
        "        for i in split:\n",
        "            file2.write(f\"Câu {questionNumber + 1}:\\n\")\n",
        "            file2.write(i + \"\\n\")\n",
        "            questionNumber += 1\n",
        "    print(\"[INFO] Done!\")\n",
        "\n",
        "\n",
        "if __name__ == \"__main__\":\n",
        "    decode_file(file_name)\n",
        "\n"
      ],
      "metadata": {
        "id": "vTaJwGoHFhwS",
        "outputId": "7d070c58-a8c2-451e-ef6f-58064a11c45d",
        "colab": {
          "base_uri": "https://localhost:8080/"
        }
      },
      "execution_count": 23,
      "outputs": [
        {
          "output_type": "stream",
          "name": "stdout",
          "text": [
            "[INFO] File supported! Start decoding.\n",
            "[INFO] Decoding questions and answers.\n",
            "[INFO] Applying color format.\n",
            "[INFO] Done!\n"
          ]
        }
      ]
    },
    {
      "cell_type": "code",
      "source": [
        "# @title Display here or download file\n",
        "from IPython.display import display\n",
        "\n",
        "\n",
        "onDisplay = \"Download File\" # @param [\"Display Here\", \"Download File\"]\n",
        "if onDisplay == \"Display Here\":\n",
        "    with open('decode.html', 'r') as f:\n",
        "        html_content = f.read()\n",
        "        display(HTML(html_content))\n",
        "\n",
        "else:\n",
        "    files.download(\"decode.html\")"
      ],
      "metadata": {
        "id": "aaPTdipkFnZk",
        "outputId": "21322d3a-94af-45ec-fe0c-83a59f22e414",
        "colab": {
          "base_uri": "https://localhost:8080/",
          "height": 17
        }
      },
      "execution_count": 42,
      "outputs": [
        {
          "output_type": "display_data",
          "data": {
            "text/plain": [
              "<IPython.core.display.Javascript object>"
            ],
            "application/javascript": [
              "\n",
              "    async function download(id, filename, size) {\n",
              "      if (!google.colab.kernel.accessAllowed) {\n",
              "        return;\n",
              "      }\n",
              "      const div = document.createElement('div');\n",
              "      const label = document.createElement('label');\n",
              "      label.textContent = `Downloading \"${filename}\": `;\n",
              "      div.appendChild(label);\n",
              "      const progress = document.createElement('progress');\n",
              "      progress.max = size;\n",
              "      div.appendChild(progress);\n",
              "      document.body.appendChild(div);\n",
              "\n",
              "      const buffers = [];\n",
              "      let downloaded = 0;\n",
              "\n",
              "      const channel = await google.colab.kernel.comms.open(id);\n",
              "      // Send a message to notify the kernel that we're ready.\n",
              "      channel.send({})\n",
              "\n",
              "      for await (const message of channel.messages) {\n",
              "        // Send a message to notify the kernel that we're ready.\n",
              "        channel.send({})\n",
              "        if (message.buffers) {\n",
              "          for (const buffer of message.buffers) {\n",
              "            buffers.push(buffer);\n",
              "            downloaded += buffer.byteLength;\n",
              "            progress.value = downloaded;\n",
              "          }\n",
              "        }\n",
              "      }\n",
              "      const blob = new Blob(buffers, {type: 'application/binary'});\n",
              "      const a = document.createElement('a');\n",
              "      a.href = window.URL.createObjectURL(blob);\n",
              "      a.download = filename;\n",
              "      div.appendChild(a);\n",
              "      a.click();\n",
              "      div.remove();\n",
              "    }\n",
              "  "
            ]
          },
          "metadata": {}
        },
        {
          "output_type": "display_data",
          "data": {
            "text/plain": [
              "<IPython.core.display.Javascript object>"
            ],
            "application/javascript": [
              "download(\"download_d5ef1733-0b44-478d-9d20-00ae1b4c1ced\", \"decode.html\", 11466)"
            ]
          },
          "metadata": {}
        }
      ]
    }
  ]
}