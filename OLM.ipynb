{
  "nbformat": 4,
  "nbformat_minor": 0,
  "metadata": {
    "colab": {
      "provenance": []
    },
    "kernelspec": {
      "name": "python3",
      "display_name": "Python 3"
    },
    "language_info": {
      "name": "python"
    }
  },
  "cells": [
    {
      "cell_type": "code",
      "execution_count": null,
      "metadata": {
        "cellView": "form",
        "id": "HDw5jqocFeJn"
      },
      "outputs": [],
      "source": [
        "# @title Upload your file or input your json here\n",
        "from google.colab import files\n",
        "user_input = \"\" # @param {type:\"string\"}\n",
        "\n",
        "\n",
        "if not user_input:\n",
        "    uploaded = files.upload()\n",
        "    file_name = list(uploaded.keys())[0]\n",
        "\n",
        "else:\n",
        "    file_name = \"temp_file\"\n",
        "    with open(file_name, 'w', encoding='utf-8') as f:\n",
        "        f.write(user_input)"
      ]
    },
    {
      "cell_type": "code",
      "source": [
        "# @title Process file { run: \"auto\" }\n",
        "\n",
        "import base64\n",
        "import html\n",
        "import os\n",
        "import sys\n",
        "import argparse\n",
        "import re\n",
        "\n",
        "\n",
        "def decode_file(fn):\n",
        "    # Open File and Read It.\n",
        "    with open(fn, \"r\") as file:\n",
        "        encodedQaAs = re.findall(r\"(?<=content\\\":\\s\\\").+?(?=\\\")\", file.read())\n",
        "\n",
        "    # Check if file is valid.\n",
        "    if not encodedQaAs:\n",
        "        with open(fn, \"r\") as file:\n",
        "            encodedQaAs = re.findall(r\"(?<=content\\\":\\\").+?(?=\\\")\", file.read())\n",
        "\n",
        "        if not encodedQaAs:\n",
        "            print(\"[Error] File is not supported! Exit.\")\n",
        "            return\n",
        "\n",
        "        else:\n",
        "            print(\"[INFO] File supported! Start decoding.\")\n",
        "    else:\n",
        "        print(\"[INFO] File supported! Start decoding.\")\n",
        "\n",
        "\n",
        "    # Decode QaA then store it in a list.\n",
        "    print(\"[INFO] Decoding questions and answers.\")\n",
        "    decodedQaAs = []\n",
        "    for encodedQaA in encodedQaAs:\n",
        "        decodedQaAs.append(html.unescape((base64.b64decode(encodedQaA)).decode(\"utf-8\")))\n",
        "\n",
        "    # Decode HTML and apply color format for correct answer.\n",
        "    print(\"[INFO] Applying color format.\")\n",
        "    split = []\n",
        "    questionNumber = 0\n",
        "\n",
        "    for decodedQaA in decodedQaAs:\n",
        "        if re.search(r\"<li class=\\\"correctAnswer\\\">\", decodedQaA) is None:\n",
        "            split.append(re.sub(r\"<li class = 'correctAnswer'>\", \"<li style=\\\"color:red\\\">\", decodedQaA))\n",
        "        else:\n",
        "            split.append(re.sub(r\"<li class=\\\"correctAnswer\\\">\", \"<li style=\\\"color:red\\\">\", decodedQaA))\n",
        "\n",
        "    # Save.\n",
        "    with open(\"decode.html\", \"w\", encoding=\"utf-8\") as file2:\n",
        "        for i in split:\n",
        "            file2.write(f\"Câu {questionNumber + 1}:\\n\")\n",
        "            file2.write(i + \"\\n\")\n",
        "            questionNumber += 1\n",
        "    print(\"[INFO] Done!\")\n",
        "\n",
        "\n",
        "if __name__ == \"__main__\":\n",
        "    decode_file(file_name)\n",
        "\n"
      ],
      "metadata": {
        "id": "vTaJwGoHFhwS",
        "cellView": "form"
      },
      "execution_count": null,
      "outputs": []
    },
    {
      "cell_type": "code",
      "source": [
        "# @title Download file { run: \"auto\" }\n",
        "files.download(\"decode.html\")"
      ],
      "metadata": {
        "cellView": "form",
        "id": "aaPTdipkFnZk"
      },
      "execution_count": null,
      "outputs": []
    }
  ]
}